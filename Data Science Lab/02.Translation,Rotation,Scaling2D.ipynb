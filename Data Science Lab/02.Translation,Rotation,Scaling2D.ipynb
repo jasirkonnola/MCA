{
 "cells": [
  {
   "cell_type": "code",
   "execution_count": 2,
   "id": "6732e49c-902f-46cb-91fc-df021e2c85b0",
   "metadata": {},
   "outputs": [
    {
     "name": "stdout",
     "output_type": "stream",
     "text": [
      "Translation Matrix:\n",
      "[[1 0 1]\n",
      " [0 1 1]\n",
      " [0 0 1]]\n",
      "\n",
      "Rotated Matrix:\n",
      "[[ 0.8660254 -0.5        0.       ]\n",
      " [ 0.5        0.8660254  0.       ]\n",
      " [ 0.         0.         1.       ]]\n",
      "\n",
      "Scaling Matrix:\n",
      "[[2 0 0]\n",
      " [0 3 0]\n",
      " [0 0 1]]\n"
     ]
    }
   ],
   "source": [
    "import numpy\n",
    "def translationMatrix(tx = 0, ty = 0):\n",
    "    return numpy.matrix([[1,0,tx],\n",
    "                         [0,1,ty],\n",
    "                         [0,0,1]])\n",
    "matrix=translationMatrix(1,1)\n",
    "print(\"Translation Matrix:\")\n",
    "print(matrix)\n",
    "print()\n",
    "\n",
    "def rotationMatrix(degree):\n",
    "    theta = numpy.radians(degree)\n",
    "    c,s=numpy.cos(theta),numpy.sin(theta)\n",
    "    return numpy.matrix([[c,-s,0],\n",
    "                         [s,c,0],\n",
    "                         [0,0,1]])\n",
    "matrix=rotationMatrix(30)\n",
    "print(\"Rotated Matrix:\")\n",
    "print(matrix)\n",
    "print()\n",
    "\n",
    "def scalingMatrix(sx = 0 , sy = 0):\n",
    "    return numpy.matrix([[sx,0,0],\n",
    "                         [0,sy,0],\n",
    "                         [0,0,1]])\n",
    "matrix=scalingMatrix(2,3)\n",
    "print(\"Scaling Matrix:\")\n",
    "print(matrix)\n"
   ]
  }
 ],
 "metadata": {
  "kernelspec": {
   "display_name": "Python 3 (ipykernel)",
   "language": "python",
   "name": "python3"
  },
  "language_info": {
   "codemirror_mode": {
    "name": "ipython",
    "version": 3
   },
   "file_extension": ".py",
   "mimetype": "text/x-python",
   "name": "python",
   "nbconvert_exporter": "python",
   "pygments_lexer": "ipython3",
   "version": "3.13.5"
  }
 },
 "nbformat": 4,
 "nbformat_minor": 5
}
