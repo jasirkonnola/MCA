{
 "cells": [
  {
   "cell_type": "code",
   "execution_count": 5,
   "id": "6732e49c-902f-46cb-91fc-df021e2c85b0",
   "metadata": {},
   "outputs": [
    {
     "name": "stdout",
     "output_type": "stream",
     "text": [
      "[[1 2 3]\n",
      " [4 5 6]\n",
      " [7 8 8]]\n",
      "\n",
      "[[-0.2199626  -0.77804471 -0.58844106]\n",
      " [-0.53678521 -0.40714295  0.73898326]\n",
      " [-0.81454164  0.47841514 -0.32808667]]\n",
      "\n",
      "[16.31368816  1.35840058  0.13537586]\n",
      "\n",
      "[[-0.49460888 -0.59092612 -0.63731341]\n",
      " [ 0.69367571  0.17337814 -0.69910946]\n",
      " [ 0.52361825 -0.78787457  0.32415673]]\n",
      "\n",
      "[[16.31368816  0.          0.        ]\n",
      " [ 0.          1.35840058  0.        ]\n",
      " [ 0.          0.          0.13537586]]\n",
      "\n",
      "[[1. 2. 3.]\n",
      " [4. 5. 6.]\n",
      " [7. 8. 8.]]\n"
     ]
    }
   ],
   "source": [
    "from matplotlib import pyplot\n",
    "from numpy import array\n",
    "\n",
    "fig,ax = pyplot.subplots(1,1)\n",
    "a = array([22,87,5,43,56,73,55,54,11,20,51,5,79,31,27])\n",
    "ax.hist(a, bins = [0,10,20,30,40,60,70,80,90,100])\n",
    "ax.set_title(\"histogram pf result\")\n",
    "ax.set_xticks([0, 10, 20, 30, 40, 50, 60, 70, 80, 90, 100])\n",
    "ax.set_xlabel('marks')\n",
    "ax.set_ylabel('no of students')\n",
    "pyplot.show()"
   ]
  }
 ],
 "metadata": {
  "kernelspec": {
   "display_name": "Python 3 (ipykernel)",
   "language": "python",
   "name": "python3"
  },
  "language_info": {
   "codemirror_mode": {
    "name": "ipython",
    "version": 3
   },
   "file_extension": ".py",
   "mimetype": "text/x-python",
   "name": "python",
   "nbconvert_exporter": "python",
   "pygments_lexer": "ipython3",
   "version": "3.13.5"
  }
 },
 "nbformat": 4,
 "nbformat_minor": 5
}
