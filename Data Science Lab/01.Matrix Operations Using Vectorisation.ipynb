{
 "cells": [
  {
   "cell_type": "code",
   "execution_count": 1,
   "id": "6732e49c-902f-46cb-91fc-df021e2c85b0",
   "metadata": {},
   "outputs": [
    {
     "name": "stdout",
     "output_type": "stream",
     "text": [
      "Matrix 1=\n",
      " [[1 2 3]\n",
      " [1 1 1]\n",
      " [1 1 1]]\n",
      "Matrix 2=\n",
      " [[1 0 0]\n",
      " [0 1 0]\n",
      " [0 0 1]]\n",
      "Matrix 1 + Matrix 2=\n",
      " [[2 2 3]\n",
      " [1 2 1]\n",
      " [1 1 2]]\n",
      "Matrix 1 - Matrix 2=\n",
      " [[0 2 3]\n",
      " [1 0 1]\n",
      " [1 1 0]]\n",
      "Matrix 1 * Matrix 2=\n",
      " [[1 2 3]\n",
      " [1 1 1]\n",
      " [1 1 1]]\n",
      "2 * Matrix 1=\n",
      " [[2 4 6]\n",
      " [2 2 2]\n",
      " [2 2 2]]\n",
      "Transpose of Matrix 1=\n",
      " [[1 1 1]\n",
      " [2 1 1]\n",
      " [3 1 1]]\n"
     ]
    }
   ],
   "source": [
    "import numpy\n",
    "\n",
    "matrix1=numpy.matrix([[1,2,3],[1,1,1],[1,1,1]])\n",
    "matrix2=numpy.matrix([[1,0,0],[0,1,0],[0,0,1]])\n",
    "print(\"Matrix 1=\\n\",matrix1)\n",
    "print(\"Matrix 2=\\n\",matrix2)\n",
    "\n",
    "matrix3=numpy.add(matrix1,matrix2)\n",
    "matrix4=numpy.subtract(matrix1,matrix2)\n",
    "matrix5=numpy.matmul(matrix1,matrix2)\n",
    "matrix6=numpy.transpose(matrix1)\n",
    "\n",
    "print(\"Matrix 1 + Matrix 2=\\n\", matrix3)\n",
    "print(\"Matrix 1 - Matrix 2=\\n\", matrix4)\n",
    "print(\"Matrix 1 * Matrix 2=\\n\", matrix5)\n",
    "print(\"2 * Matrix 1=\\n\", 2*matrix1)\n",
    "print(\"Transpose of Matrix 1=\\n\", matrix6)"
   ]
  }
 ],
 "metadata": {
  "kernelspec": {
   "display_name": "Python 3 (ipykernel)",
   "language": "python",
   "name": "python3"
  },
  "language_info": {
   "codemirror_mode": {
    "name": "ipython",
    "version": 3
   },
   "file_extension": ".py",
   "mimetype": "text/x-python",
   "name": "python",
   "nbconvert_exporter": "python",
   "pygments_lexer": "ipython3",
   "version": "3.13.5"
  }
 },
 "nbformat": 4,
 "nbformat_minor": 5
}
