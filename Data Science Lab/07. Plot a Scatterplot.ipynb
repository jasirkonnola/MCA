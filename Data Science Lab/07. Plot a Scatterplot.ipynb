{
 "cells": [
  {
   "cell_type": "code",
   "execution_count": null,
   "id": "cbff091f-e244-4420-bc35-d569c460f547",
   "metadata": {},
   "outputs": [],
   "source": [
    "from matplotlib import pyplot\n",
    "rollnos = [1,2,3,4,5,6,7,8,9,10,11,12,13,14,15]\n",
    "marks =  [22,87,5,43,56,73,55,54,11,20,51,5,79,31,27]\n",
    "\n",
    "fig,ax = pyplot.subplots(1,1)\n",
    "\n",
    "ax.scatter(rollnos, marks)\n",
    "ax.set_title(\"Scatter Plot\")\n",
    "ax.set_xticks([1,2,3,4,5,6,7,8,9,10,11,12,13,14,15])\n",
    "ax.set_yticks([25,50,75,100])\n",
    "ax.set_xlabel('rollnos')\n",
    "ax.set_ylabel('marks')\n",
    "\n",
    "pyplot.show()"
   ]
  }
 ],
 "metadata": {
  "kernelspec": {
   "display_name": "Python 3 (ipykernel)",
   "language": "python",
   "name": "python3"
  },
  "language_info": {
   "codemirror_mode": {
    "name": "ipython",
    "version": 3
   },
   "file_extension": ".py",
   "mimetype": "text/x-python",
   "name": "python",
   "nbconvert_exporter": "python",
   "pygments_lexer": "ipython3",
   "version": "3.13.5"
  }
 },
 "nbformat": 4,
 "nbformat_minor": 5
}
