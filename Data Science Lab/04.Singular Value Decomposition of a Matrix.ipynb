{
 "cells": [
  {
   "cell_type": "code",
   "execution_count": 5,
   "id": "6732e49c-902f-46cb-91fc-df021e2c85b0",
   "metadata": {},
   "outputs": [
    {
     "name": "stdout",
     "output_type": "stream",
     "text": [
      "[[1 2 3]\n",
      " [4 5 6]\n",
      " [7 8 8]]\n",
      "\n",
      "[[-0.2199626  -0.77804471 -0.58844106]\n",
      " [-0.53678521 -0.40714295  0.73898326]\n",
      " [-0.81454164  0.47841514 -0.32808667]]\n",
      "\n",
      "[16.31368816  1.35840058  0.13537586]\n",
      "\n",
      "[[-0.49460888 -0.59092612 -0.63731341]\n",
      " [ 0.69367571  0.17337814 -0.69910946]\n",
      " [ 0.52361825 -0.78787457  0.32415673]]\n",
      "\n",
      "[[16.31368816  0.          0.        ]\n",
      " [ 0.          1.35840058  0.        ]\n",
      " [ 0.          0.          0.13537586]]\n",
      "\n",
      "[[1. 2. 3.]\n",
      " [4. 5. 6.]\n",
      " [7. 8. 8.]]\n"
     ]
    }
   ],
   "source": [
    "from numpy import matrix\n",
    "from numpy import matmul\n",
    "from numpy import diag\n",
    "from scipy.linalg import svd\n",
    "\n",
    "A=matrix([[1,2,3],\n",
    "          [4,5,6],\n",
    "          [7,8,8]])\n",
    "print (A)\n",
    "print()\n",
    "U, S, V = svd(A)\n",
    "print(U)\n",
    "print()\n",
    "print(S)\n",
    "print()\n",
    "print(V)\n",
    "print()\n",
    "\n",
    "Sigma = diag(S)\n",
    "print(Sigma)\n",
    "print()\n",
    "B =  matmul(U,matmul(Sigma,V))\n",
    "print(B)"
   ]
  }
 ],
 "metadata": {
  "kernelspec": {
   "display_name": "Python 3 (ipykernel)",
   "language": "python",
   "name": "python3"
  },
  "language_info": {
   "codemirror_mode": {
    "name": "ipython",
    "version": 3
   },
   "file_extension": ".py",
   "mimetype": "text/x-python",
   "name": "python",
   "nbconvert_exporter": "python",
   "pygments_lexer": "ipython3",
   "version": "3.13.5"
  }
 },
 "nbformat": 4,
 "nbformat_minor": 5
}
