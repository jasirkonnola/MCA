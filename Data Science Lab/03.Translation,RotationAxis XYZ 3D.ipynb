{
 "cells": [
  {
   "cell_type": "code",
   "execution_count": 4,
   "id": "6732e49c-902f-46cb-91fc-df021e2c85b0",
   "metadata": {},
   "outputs": [
    {
     "name": "stdout",
     "output_type": "stream",
     "text": [
      "Translation Matrix:\n",
      " [[1 0 0 1]\n",
      " [0 1 0 1]\n",
      " [0 0 1 1]\n",
      " [0 0 0 1]] \n",
      "\n",
      "Rotation Matrix about X axis:\n",
      " [[ 1.         0.         0.         0.       ]\n",
      " [ 0.         0.8660254 -0.5        0.       ]\n",
      " [ 0.         0.5        0.8660254  0.       ]\n",
      " [ 0.         0.         0.         1.       ]] \n",
      "\n",
      "Rotation Matrix about Y axis:\n",
      " [[ 0.8660254  0.         0.5        0.       ]\n",
      " [ 0.         1.         0.         0.       ]\n",
      " [-0.5        0.         0.8660254  0.       ]\n",
      " [ 0.         0.         0.         1.       ]] \n",
      "\n",
      "Rotation Matrix about Z axis:\n",
      " [[ 0.8660254 -0.5        0.         0.       ]\n",
      " [ 0.5        0.8660254  0.         0.       ]\n",
      " [ 0.         0.         1.         0.       ]\n",
      " [ 0.         0.         0.         1.       ]] \n",
      "\n"
     ]
    }
   ],
   "source": [
    "import numpy as np\n",
    "\n",
    "def translationMatrix(tx=0, ty=0, tz=0):\n",
    "    return np.matrix([[1, 0, 0, tx],\n",
    "                      [0, 1, 0, ty],\n",
    "                      [0, 0, 1, tz],\n",
    "                      [0, 0, 0, 1]])\n",
    "\n",
    "def rotationMatrixX(degree):\n",
    "    theta = np.radians(degree)\n",
    "    c, s = np.cos(theta), np.sin(theta)\n",
    "    return np.matrix([[1, 0, 0, 0],\n",
    "                      [0, c, -s, 0],\n",
    "                      [0, s, c, 0],\n",
    "                      [0, 0, 0, 1]])\n",
    "\n",
    "def rotationMatrixY(degree):\n",
    "    theta = np.radians(degree)\n",
    "    c, s = np.cos(theta), np.sin(theta)\n",
    "    return np.matrix([[c, 0, s, 0],\n",
    "                      [0, 1, 0, 0],\n",
    "                      [-s, 0, c, 0],\n",
    "                      [0, 0, 0, 1]])\n",
    "\n",
    "def rotationMatrixZ(degree):\n",
    "    theta = np.radians(degree)\n",
    "    c, s = np.cos(theta), np.sin(theta)\n",
    "    return np.matrix([[c, -s, 0, 0],\n",
    "                      [s, c, 0, 0],\n",
    "                      [0, 0, 1, 0],\n",
    "                      [0, 0, 0, 1]])\n",
    "\n",
    "# Test all matrices\n",
    "print(\"Translation Matrix:\\n\", translationMatrix(1, 1, 1), \"\\n\")\n",
    "print(\"Rotation Matrix about X axis:\\n\", rotationMatrixX(30), \"\\n\")\n",
    "print(\"Rotation Matrix about Y axis:\\n\", rotationMatrixY(30), \"\\n\")\n",
    "print(\"Rotation Matrix about Z axis:\\n\", rotationMatrixZ(30), \"\\n\")\n"
   ]
  }
 ],
 "metadata": {
  "kernelspec": {
   "display_name": "Python 3 (ipykernel)",
   "language": "python",
   "name": "python3"
  },
  "language_info": {
   "codemirror_mode": {
    "name": "ipython",
    "version": 3
   },
   "file_extension": ".py",
   "mimetype": "text/x-python",
   "name": "python",
   "nbconvert_exporter": "python",
   "pygments_lexer": "ipython3",
   "version": "3.13.5"
  }
 },
 "nbformat": 4,
 "nbformat_minor": 5
}
